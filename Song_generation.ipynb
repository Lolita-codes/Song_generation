{
  "nbformat": 4,
  "nbformat_minor": 0,
  "metadata": {
    "colab": {
      "provenance": []
    },
    "kernelspec": {
      "name": "python3",
      "display_name": "Python 3"
    },
    "language_info": {
      "name": "python"
    }
  },
  "cells": [
    {
      "cell_type": "code",
      "execution_count": null,
      "metadata": {
        "colab": {
          "base_uri": "https://localhost:8080/"
        },
        "id": "xW82VqLxd7zk",
        "outputId": "e2c5359a-a793-4656-8c5d-f30465ee79d7"
      },
      "outputs": [
        {
          "output_type": "stream",
          "name": "stdout",
          "text": [
            "Requirement already satisfied: langchain_openai in /usr/local/lib/python3.10/dist-packages (0.1.3)\n",
            "Requirement already satisfied: langchain-core<0.2.0,>=0.1.42 in /usr/local/lib/python3.10/dist-packages (from langchain_openai) (0.1.42)\n",
            "Requirement already satisfied: openai<2.0.0,>=1.10.0 in /usr/local/lib/python3.10/dist-packages (from langchain_openai) (1.17.1)\n",
            "Requirement already satisfied: tiktoken<1,>=0.5.2 in /usr/local/lib/python3.10/dist-packages (from langchain_openai) (0.6.0)\n",
            "Requirement already satisfied: PyYAML>=5.3 in /usr/local/lib/python3.10/dist-packages (from langchain-core<0.2.0,>=0.1.42->langchain_openai) (6.0.1)\n",
            "Requirement already satisfied: jsonpatch<2.0,>=1.33 in /usr/local/lib/python3.10/dist-packages (from langchain-core<0.2.0,>=0.1.42->langchain_openai) (1.33)\n",
            "Requirement already satisfied: langsmith<0.2.0,>=0.1.0 in /usr/local/lib/python3.10/dist-packages (from langchain-core<0.2.0,>=0.1.42->langchain_openai) (0.1.47)\n",
            "Requirement already satisfied: packaging<24.0,>=23.2 in /usr/local/lib/python3.10/dist-packages (from langchain-core<0.2.0,>=0.1.42->langchain_openai) (23.2)\n",
            "Requirement already satisfied: pydantic<3,>=1 in /usr/local/lib/python3.10/dist-packages (from langchain-core<0.2.0,>=0.1.42->langchain_openai) (2.6.4)\n",
            "Requirement already satisfied: tenacity<9.0.0,>=8.1.0 in /usr/local/lib/python3.10/dist-packages (from langchain-core<0.2.0,>=0.1.42->langchain_openai) (8.2.3)\n",
            "Requirement already satisfied: anyio<5,>=3.5.0 in /usr/local/lib/python3.10/dist-packages (from openai<2.0.0,>=1.10.0->langchain_openai) (3.7.1)\n",
            "Requirement already satisfied: distro<2,>=1.7.0 in /usr/lib/python3/dist-packages (from openai<2.0.0,>=1.10.0->langchain_openai) (1.7.0)\n",
            "Requirement already satisfied: httpx<1,>=0.23.0 in /usr/local/lib/python3.10/dist-packages (from openai<2.0.0,>=1.10.0->langchain_openai) (0.27.0)\n",
            "Requirement already satisfied: sniffio in /usr/local/lib/python3.10/dist-packages (from openai<2.0.0,>=1.10.0->langchain_openai) (1.3.1)\n",
            "Requirement already satisfied: tqdm>4 in /usr/local/lib/python3.10/dist-packages (from openai<2.0.0,>=1.10.0->langchain_openai) (4.66.2)\n",
            "Requirement already satisfied: typing-extensions<5,>=4.7 in /usr/local/lib/python3.10/dist-packages (from openai<2.0.0,>=1.10.0->langchain_openai) (4.11.0)\n",
            "Requirement already satisfied: regex>=2022.1.18 in /usr/local/lib/python3.10/dist-packages (from tiktoken<1,>=0.5.2->langchain_openai) (2023.12.25)\n",
            "Requirement already satisfied: requests>=2.26.0 in /usr/local/lib/python3.10/dist-packages (from tiktoken<1,>=0.5.2->langchain_openai) (2.31.0)\n",
            "Requirement already satisfied: idna>=2.8 in /usr/local/lib/python3.10/dist-packages (from anyio<5,>=3.5.0->openai<2.0.0,>=1.10.0->langchain_openai) (3.6)\n",
            "Requirement already satisfied: exceptiongroup in /usr/local/lib/python3.10/dist-packages (from anyio<5,>=3.5.0->openai<2.0.0,>=1.10.0->langchain_openai) (1.2.0)\n",
            "Requirement already satisfied: certifi in /usr/local/lib/python3.10/dist-packages (from httpx<1,>=0.23.0->openai<2.0.0,>=1.10.0->langchain_openai) (2024.2.2)\n",
            "Requirement already satisfied: httpcore==1.* in /usr/local/lib/python3.10/dist-packages (from httpx<1,>=0.23.0->openai<2.0.0,>=1.10.0->langchain_openai) (1.0.5)\n",
            "Requirement already satisfied: h11<0.15,>=0.13 in /usr/local/lib/python3.10/dist-packages (from httpcore==1.*->httpx<1,>=0.23.0->openai<2.0.0,>=1.10.0->langchain_openai) (0.14.0)\n",
            "Requirement already satisfied: jsonpointer>=1.9 in /usr/local/lib/python3.10/dist-packages (from jsonpatch<2.0,>=1.33->langchain-core<0.2.0,>=0.1.42->langchain_openai) (2.4)\n",
            "Requirement already satisfied: orjson<4.0.0,>=3.9.14 in /usr/local/lib/python3.10/dist-packages (from langsmith<0.2.0,>=0.1.0->langchain-core<0.2.0,>=0.1.42->langchain_openai) (3.10.0)\n",
            "Requirement already satisfied: annotated-types>=0.4.0 in /usr/local/lib/python3.10/dist-packages (from pydantic<3,>=1->langchain-core<0.2.0,>=0.1.42->langchain_openai) (0.6.0)\n",
            "Requirement already satisfied: pydantic-core==2.16.3 in /usr/local/lib/python3.10/dist-packages (from pydantic<3,>=1->langchain-core<0.2.0,>=0.1.42->langchain_openai) (2.16.3)\n",
            "Requirement already satisfied: charset-normalizer<4,>=2 in /usr/local/lib/python3.10/dist-packages (from requests>=2.26.0->tiktoken<1,>=0.5.2->langchain_openai) (3.3.2)\n",
            "Requirement already satisfied: urllib3<3,>=1.21.1 in /usr/local/lib/python3.10/dist-packages (from requests>=2.26.0->tiktoken<1,>=0.5.2->langchain_openai) (2.0.7)\n",
            "\n",
            "\n",
            "Verse 1:\n",
            "Bubbles dancing in my glass\n",
            "Clear and crisp, it's such a blast\n",
            "Refreshing taste, it's like a dream\n",
            "Sparkling water, you make me beam\n",
            "\n",
            "Chorus:\n",
            "Oh sparkling water, you're my delight\n",
            "With every sip, you make me feel so right\n",
            "You're like a party in my mouth\n",
            "I can't get enough, I'm hooked no doubt\n",
            "\n",
            "Verse 2:\n",
            "No sugar, no calories, just pure bliss\n",
            "You're the perfect drink, I must confess\n",
            "From lemon to lime, so many flavors to choose\n",
            "Sparkling water, you never fail to amuse\n",
            "\n",
            "Chorus:\n",
            "Oh sparkling water, you're my delight\n",
            "With every sip, you make me feel so right\n",
            "You're like a party in my mouth\n",
            "I can't get enough, I'm hooked no doubt\n",
            "\n",
            "Bridge:\n",
            "Some may say you're just plain water\n",
            "But to me, you're so much more\n",
            "You bring a sparkle to my day\n",
            "In every single way\n",
            "\n",
            "Chorus:\n",
            "Oh sparkling water, you're my delight\n",
            "With every sip, you make me feel so right\n",
            "You're like a party in my mouth\n",
            "I can't get enough, I'm hooked no doubt\n",
            "\n",
            "Outro:\n",
            "So here's to you, my dear sparkling friend\n",
            "You'll always be my go-to till the very end\n",
            "With every bubble, you bring me joy\n",
            "Sparkling water, you're my favorite toy."
          ]
        }
      ],
      "source": [
        "!pip install langchain_openai\n",
        "\n",
        "from langchain_openai import OpenAI\n",
        "\n",
        "from google.colab import userdata\n",
        "openai_api_key = userdata.get('OPENAI_API_KEY')\n",
        "\n",
        "llm = OpenAI(model=\"gpt-3.5-turbo-instruct\", temperature=0, max_tokens=512, openai_api_key=openai_api_key)\n",
        "for chunk in llm.stream(\"Write me a song about sparkling water.\"):\n",
        "    print(chunk, end=\"\", flush=True)"
      ]
    },
    {
      "cell_type": "code",
      "source": [
        "for chunk in llm.stream(\"Write me a song by taylor swift of your choice.\"):\n",
        "    print(chunk, end=\"\", flush=True)"
      ],
      "metadata": {
        "colab": {
          "base_uri": "https://localhost:8080/"
        },
        "id": "c3MgeGy3eCZr",
        "outputId": "4e480aa0-b4c7-49ea-93cb-366d461fd091"
      },
      "execution_count": null,
      "outputs": [
        {
          "output_type": "stream",
          "name": "stdout",
          "text": [
            "\n",
            "\n",
            "Verse 1:\n",
            "I remember the day we met\n",
            "You were just a stranger in my mind\n",
            "But something about you caught my eye\n",
            "And I couldn't help but feel alive\n",
            "\n",
            "Pre-Chorus:\n",
            "You were like a breath of fresh air\n",
            "In a world that's so cold and grey\n",
            "And I knew right then and there\n",
            "That you were here to stay\n",
            "\n",
            "Chorus:\n",
            "You're my everything, my heart and soul\n",
            "You make me feel like I'm whole\n",
            "With you by my side, I can conquer anything\n",
            "You're my Taylor Swift love song, my everything\n",
            "\n",
            "Verse 2:\n",
            "We've had our ups and downs\n",
            "But we always find our way back\n",
            "Through the laughter and the tears\n",
            "Our love never seems to crack\n",
            "\n",
            "Pre-Chorus:\n",
            "You're my rock, my steady ground\n",
            "In a world that's always changing\n",
            "And I know with you around\n",
            "I'll never have to face it alone again\n",
            "\n",
            "Chorus:\n",
            "You're my everything, my heart and soul\n",
            "You make me feel like I'm whole\n",
            "With you by my side, I can conquer anything\n",
            "You're my Taylor Swift love song, my everything\n",
            "\n",
            "Bridge:\n",
            "I never believed in fairytales\n",
            "But then you came along\n",
            "And showed me that love can prevail\n",
            "Even when everything seems wrong\n",
            "\n",
            "Chorus:\n",
            "You're my everything, my heart and soul\n",
            "You make me feel like I'm whole\n",
            "With you by my side, I can conquer anything\n",
            "You're my Taylor Swift love song, my everything\n",
            "\n",
            "Outro:\n",
            "So here's my love song to you\n",
            "My Taylor Swift inspired tune\n",
            "I'll sing it loud and proud\n",
            "Because you're my everything, my love, my sound."
          ]
        }
      ]
    },
    {
      "cell_type": "code",
      "source": [],
      "metadata": {
        "id": "OQokBsrgfDPY"
      },
      "execution_count": null,
      "outputs": []
    }
  ]
}